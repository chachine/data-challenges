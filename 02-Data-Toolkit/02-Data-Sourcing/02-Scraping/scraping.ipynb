{
 "cells": [
  {
   "cell_type": "code",
   "execution_count": 1,
   "metadata": {},
   "outputs": [],
   "source": [
    "# $DELETE_BEGIN"
   ]
  },
  {
   "cell_type": "markdown",
   "metadata": {},
   "source": [
    "# Scraping Books"
   ]
  },
  {
   "cell_type": "code",
   "execution_count": 2,
   "metadata": {},
   "outputs": [],
   "source": [
    "import sys\n",
    "\n",
    "import requests\n",
    "from bs4 import BeautifulSoup\n",
    "\n",
    "import numpy as np\n",
    "import pandas as pd\n",
    "\n",
    "%matplotlib inline\n",
    "import matplotlib"
   ]
  },
  {
   "cell_type": "markdown",
   "metadata": {},
   "source": [
    "## Defining the Functions"
   ]
  },
  {
   "cell_type": "code",
   "execution_count": 3,
   "metadata": {},
   "outputs": [],
   "source": [
    "def fetch_page(page):\n",
    "    # Informational print\n",
    "    print(f\"Scraping page {page + 1}\")\n",
    "    \n",
    "    # Create the response using a header for the language\n",
    "    response = requests.get(\n",
    "        f'http://books.toscrape.com/catalogue/page-{page + 1}.html',\n",
    "        headers = {\"Accept-Language\":\"en-US\"}\n",
    "    )\n",
    "    \n",
    "    # Create the soup\n",
    "    soup = BeautifulSoup(response.content, \"html.parser\")\n",
    "    \n",
    "    return soup"
   ]
  },
  {
   "cell_type": "code",
   "execution_count": 4,
   "metadata": {},
   "outputs": [],
   "source": [
    "# Create a mapping for the ratings\n",
    "ratings = {'One': 1, 'Two': 2, 'Three': 3, 'Four': 4, 'Five': 5}"
   ]
  },
  {
   "cell_type": "code",
   "execution_count": 5,
   "metadata": {},
   "outputs": [],
   "source": [
    "def add_books_to_dict(soup, dict):\n",
    "    for book_html in soup.find_all(class_ = \"product_pod\"):\n",
    "        # Find the title and price\n",
    "        dict['Title'].append(book_html.find(\"h3\").find(\"a\").string)\n",
    "        dict['Price'].append(float(book_html.find(class_ = \"price_color\").string.strip('£')))\n",
    "        \n",
    "        # Find the star rating and user the mapping to convert it to numbers\n",
    "        stars_html = book_html.find(class_ = \"star-rating\")\n",
    "        dict['Rating'].append(ratings.get(stars_html.attrs['class'][1], 0))"
   ]
  },
  {
   "cell_type": "code",
   "execution_count": 6,
   "metadata": {},
   "outputs": [],
   "source": [
    "books_dict = { 'Title': [], 'Price': [], 'Rating': [] }"
   ]
  },
  {
   "cell_type": "code",
   "execution_count": 7,
   "metadata": {},
   "outputs": [],
   "source": [
    "def create_books_df(max_page):\n",
    "    for page in range(max_page):\n",
    "        # Get page from the soup and add it to the books_dict\n",
    "        soup = fetch_page(page)\n",
    "        add_books_to_dict(soup, books_dict)\n",
    "\n",
    "    return pd.DataFrame.from_dict(books_dict)"
   ]
  },
  {
   "cell_type": "markdown",
   "metadata": {},
   "source": [
    "## Creating the `books_df`"
   ]
  },
  {
   "cell_type": "code",
   "execution_count": 8,
   "metadata": {},
   "outputs": [],
   "source": [
    "books_df = create_books_df(50)\n",
    "books_df.shape"
   ]
  },
  {
   "cell_type": "markdown",
   "metadata": {},
   "source": [
    "### Visualizing"
   ]
  },
  {
   "cell_type": "code",
   "execution_count": 9,
   "metadata": {},
   "outputs": [],
   "source": [
    "books_df.head()"
   ]
  },
  {
   "cell_type": "code",
   "execution_count": 10,
   "metadata": {},
   "outputs": [],
   "source": [
    "books_df.groupby(\"Rating\").count()[\"Title\"].plot(kind=\"bar\")"
   ]
  },
  {
   "cell_type": "code",
   "execution_count": 11,
   "metadata": {},
   "outputs": [],
   "source": [
    "books_df['Price'].hist()"
   ]
  },
  {
   "cell_type": "code",
   "execution_count": 12,
   "metadata": {},
   "outputs": [],
   "source": [
    "books_df.to_csv(\"books.csv\")\n",
    "#all_books_df.to_excel('books.xlsx', sheet_name='Books')"
   ]
  },
  {
   "cell_type": "code",
   "execution_count": 13,
   "metadata": {},
   "outputs": [],
   "source": [
    "from nbresult import ChallengeResult\n",
    "\n",
    "result = ChallengeResult('books',\n",
    "    columns=books_df.columns,\n",
    "    title=str(books_df.loc[0,'Title']),\n",
    "    price=books_df.loc[0,'Price'],\n",
    "    rating=books_df.loc[0,'Rating']\n",
    ")\n",
    "result.write()\n",
    "print(result.check())"
   ]
  },
  {
   "cell_type": "code",
   "execution_count": 14,
   "metadata": {},
   "outputs": [],
   "source": [
    "# $DELETE_END"
   ]
  }
 ],
 "metadata": {
  "kernelspec": {
   "display_name": "Python 3.8.12 64-bit ('data-maintenance')",
   "language": "python",
   "name": "python3"
  },
  "language_info": {
   "codemirror_mode": {
    "name": "ipython",
    "version": 3
   },
   "file_extension": ".py",
   "mimetype": "text/x-python",
   "name": "python",
   "nbconvert_exporter": "python",
   "pygments_lexer": "ipython3",
   "version": "3.8.12"
  },
  "vscode": {
   "interpreter": {
    "hash": "aa23044e0613bfa6872d847e783fd30063717c7356e8566261079885d687a76d"
   }
  }
 },
 "nbformat": 4,
 "nbformat_minor": 4
}
