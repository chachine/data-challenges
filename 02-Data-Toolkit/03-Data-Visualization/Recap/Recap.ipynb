{
 "cells": [
  {
   "cell_type": "markdown",
   "metadata": {},
   "source": [
    "# From Data to Viz\n",
    "\n",
    "The purpose of this Recap is to choose the right data visualization for a given question on a dataset.\n",
    "\n",
    "(Freely inspired from https://www.data-to-viz.com/)\n",
    "\n",
    "Let's start by running the following cell:"
   ]
  },
  {
   "cell_type": "code",
   "execution_count": null,
   "metadata": {},
   "outputs": [],
   "source": [
    "import numpy as np\n",
    "import pandas as pd\n",
    "import matplotlib.pyplot as plt\n",
    "import seaborn as sns\n",
    "%matplotlib inline"
   ]
  },
  {
   "attachments": {},
   "cell_type": "markdown",
   "metadata": {},
   "source": [
    "## A - Iris 🌸\n",
    "\n",
    "\n",
    "Let's explore the Seaborn [**Iris**](https://github.com/mwaskom/seaborn-data/blob/master/iris.csv) dataset, quite known in the Machine Learning beginners community.\n",
    "\n",
    "Here's a nice picture to get used to the vocabulary around those flowers:\n",
    "\n",
    "![iris_petal_sepal](https://wagon-public-datasets.s3.amazonaws.com/data-science-images/02-Data-Toolkit/03-Data-Visualization/sepal_vs_petal.png)"
   ]
  },
  {
   "cell_type": "code",
   "execution_count": null,
   "metadata": {},
   "outputs": [],
   "source": [
    "iris_df = sns.load_dataset('iris')\n",
    "iris_df"
   ]
  },
  {
   "cell_type": "markdown",
   "metadata": {},
   "source": [
    "---\n",
    "\n",
    "### ❓ 1 - Counting Species\n",
    "\n",
    "How many different species are there in the dataset? Use a Seaborn plot to visualize their relative importance."
   ]
  },
  {
   "cell_type": "code",
   "execution_count": null,
   "metadata": {
    "tags": [
     "challengify"
    ]
   },
   "outputs": [],
   "source": [
    "# YOUR CODE HERE"
   ]
  },
  {
   "cell_type": "markdown",
   "metadata": {},
   "source": [
    "---\n",
    "### ❓ 2 - Petal Length distribution\n",
    "\n",
    "Let's see if the petal distribution in the dataset is normal or not. Use a Seaborn plot to visualize the distribution of the `petal_length` column of `iris_df`."
   ]
  },
  {
   "cell_type": "code",
   "execution_count": null,
   "metadata": {
    "tags": [
     "challengify"
    ]
   },
   "outputs": [],
   "source": [
    "# YOUR CODE HERE"
   ]
  },
  {
   "cell_type": "markdown",
   "metadata": {},
   "source": [
    "---\n",
    "### ❓ 3 - Relationships of Numerical variables\n",
    "\n",
    "Let's use a Seaborn plot to quickly get a sense of the `(x, y)` relationship of all couples of numerical columns (`sepal_length` / `sepal_width`, `sepal_length` / `petal_length`, etc.). You should use a plot which will draw 16 subplots in one line of code!"
   ]
  },
  {
   "cell_type": "code",
   "execution_count": null,
   "metadata": {
    "tags": [
     "challengify"
    ]
   },
   "outputs": [],
   "source": [
    "# YOUR CODE HERE"
   ]
  },
  {
   "cell_type": "markdown",
   "metadata": {},
   "source": [
    "---\n",
    "\n",
    "### ❓ 4 - Numerical + Categorical\n",
    "\n",
    "We learned a lot about this sample of irises:\n",
    "- `petal_length` seems to be an important dimension to identify irises\n",
    "- some of their dimensions are correlated\n",
    "- there are 3 species\n",
    " \n",
    "How can you visualize the differences between the 3 species of irises with different colors? Using Seaborn, write some code to get some helpful scatterplots and/or violin-plots (we want to use the `species` as colors to better identify groups!)."
   ]
  },
  {
   "cell_type": "code",
   "execution_count": null,
   "metadata": {
    "tags": [
     "challengify"
    ]
   },
   "outputs": [],
   "source": [
    "# YOUR CODE HERE"
   ]
  },
  {
   "cell_type": "code",
   "execution_count": null,
   "metadata": {
    "tags": [
     "challengify"
    ]
   },
   "outputs": [],
   "source": [
    "# YOUR CODE HERE"
   ]
  },
  {
   "cell_type": "code",
   "execution_count": null,
   "metadata": {
    "tags": [
     "challengify"
    ]
   },
   "outputs": [],
   "source": [
    "# YOUR CODE HERE"
   ]
  },
  {
   "cell_type": "markdown",
   "metadata": {},
   "source": [
    "---\n",
    "## B - Maps 🗺\n",
    "\n",
    "\n",
    "😱 **Imagine a world where people can't go further than 100km from home**. How can you help them to know where they can go?\n",
    "\n",
    "For this second part of the Recap, we will be using the [`folium`](https://python-visualization.github.io/folium/) package, a wrapper around the [`Leaflet`](https://leafletjs.com/) JavaScript library."
   ]
  },
  {
   "cell_type": "code",
   "execution_count": null,
   "metadata": {},
   "outputs": [],
   "source": [
    "!pip install --quiet folium"
   ]
  },
  {
   "cell_type": "markdown",
   "metadata": {},
   "source": [
    "Now import Folium:"
   ]
  },
  {
   "cell_type": "code",
   "execution_count": null,
   "metadata": {},
   "outputs": [],
   "source": [
    "import folium"
   ]
  },
  {
   "cell_type": "markdown",
   "metadata": {},
   "source": [
    "---\n",
    "\n",
    "### ❓ 1 - Draw your first map\n",
    "\n",
    "The goal of this first question is to:\n",
    "\n",
    "- Draw a map centered at specific coordinates (check out [gps-coorinates.net](https://www.gps-coordinates.net/))\n",
    "- Put a marker at that specific point\n",
    "- Draw a circle of 100km centered at specific point\n",
    "\n",
    "Check out the [`folium` Quickstart](https://python-visualization.github.io/folium/quickstart.html), you should find all the code examples you need, good luck!"
   ]
  },
  {
   "cell_type": "code",
   "execution_count": null,
   "metadata": {},
   "outputs": [],
   "source": [
    "coordinates = [48.8649224, 2.3800903] # 16 Villa Gaudelet, Paris\n",
    "\n",
    "#DELETE_BEGIN\n",
    "m = folium.Map(location=coordinates, zoom_start=8)\n",
    "folium.Marker(coordinates, tooltip='Le Wagon Paris').add_to(m)\n",
    "folium.Circle(coordinates, radius=100 * 1000).add_to(m)\n",
    "m\n",
    "#DELETE_END"
   ]
  },
  {
   "cell_type": "markdown",
   "metadata": {},
   "source": [
    "---\n",
    "\n",
    "### ❓ 2 - Build a User-Friendly tool\n",
    "\n",
    "The problem of the previous code is that we need to manually convert an address into the GPS coordinates. Let's implement a program so that user can specify their plain text address and get the map drawn for that point:\n",
    "\n",
    "```python\n",
    "draw_100km_map(\"138 Kingsland Rd, London E2 8DY\")\n",
    "```\n",
    "\n",
    "💡 Hint: You can use the [Nominatim Search API](https://nominatim.org/release-docs/latest/api/Search/) to implement a `geocode(address)` function which returns a list of `[lat, lng]` coordinates. "
   ]
  },
  {
   "cell_type": "code",
   "execution_count": null,
   "metadata": {
    "tags": [
     "challengify"
    ]
   },
   "outputs": [],
   "source": [
    "# YOUR CODE HERE"
   ]
  },
  {
   "cell_type": "markdown",
   "metadata": {},
   "source": [
    "The interactive tool:"
   ]
  },
  {
   "cell_type": "code",
   "execution_count": null,
   "metadata": {},
   "outputs": [],
   "source": [
    "address = input(\"Input your address > \")\n",
    "draw_100km_map(address)"
   ]
  }
 ],
 "metadata": {
  "kernelspec": {
   "display_name": "Python 3",
   "language": "python",
   "name": "python3"
  }
 },
 "nbformat": 4,
 "nbformat_minor": 4
}
