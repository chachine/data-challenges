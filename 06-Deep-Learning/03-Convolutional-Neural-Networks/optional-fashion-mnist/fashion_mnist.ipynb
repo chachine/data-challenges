{
 "cells": [
  {
   "cell_type": "markdown",
   "metadata": {
    "id": "mNxVF82_eDwM"
   },
   "source": [
    "# Fashion MNIST"
   ]
  },
  {
   "cell_type": "markdown",
   "metadata": {
    "id": "cqxH0jYWMdYk"
   },
   "source": [
    "🎯 <b><u>Goals:</u></b>\n",
    "- Working on the [**`Fashion MNIST`**](https://github.com/zalandoresearch/fashion-mnist) created by [Zalando Research](https://research.zalando.com/)\n",
    "- Revisit all the main concepts of Convolutional Neural Networks"
   ]
  },
  {
   "cell_type": "code",
   "execution_count": null,
   "metadata": {
    "id": "N9QyxC7ZeDwO"
   },
   "outputs": [],
   "source": [
    "import numpy as np\n",
    "import pandas as pd\n",
    "import matplotlib.pyplot as plt"
   ]
  },
  {
   "cell_type": "markdown",
   "metadata": {
    "id": "mHu4WUVlMdYn"
   },
   "source": [
    "❓ **Question: Load the fashion MNIST dataset** ❓"
   ]
  },
  {
   "cell_type": "code",
   "execution_count": null,
   "metadata": {
    "colab": {
     "base_uri": "https://localhost:8080/"
    },
    "id": "MdKnmFBYeDwV",
    "outputId": "0ba98ece-1f01-4bc4-b555-281f417cea04",
    "tags": [
     "challengify"
    ]
   },
   "outputs": [],
   "source": [
    "# YOUR CODE HERE"
   ]
  },
  {
   "cell_type": "markdown",
   "metadata": {
    "id": "JUNV68iOMdYo"
   },
   "source": [
    "## (1) Image preprocessing"
   ]
  },
  {
   "cell_type": "markdown",
   "metadata": {
    "id": "jfVykUfIeDwX",
    "outputId": "f4a9a03c-19c7-4658-c0ef-edaa723a5ca5"
   },
   "source": [
    "❓ **Questions: Image preprocessing** ❓\n",
    "\n",
    "1. Look at the shape of your images. Are they ready to be fed to a CNN ? If no, perform the necessary operation(s)\n",
    "2. What kind of task are you trying to achieve ? Encode what needs to be encoded.\n",
    "3. Last but not least, do you need to scale your dataset ?"
   ]
  },
  {
   "cell_type": "code",
   "execution_count": null,
   "metadata": {
    "colab": {
     "base_uri": "https://localhost:8080/"
    },
    "id": "JFuMjulieDwY",
    "outputId": "d4c6d9c5-8e57-4410-b873-fd7ac0d881d1",
    "tags": [
     "challengify"
    ]
   },
   "outputs": [],
   "source": [
    "# YOUR CODE HERE"
   ]
  },
  {
   "cell_type": "markdown",
   "metadata": {
    "id": "d6Hr0nidMdYr"
   },
   "source": [
    "## (2) Data exploration"
   ]
  },
  {
   "cell_type": "markdown",
   "metadata": {
    "id": "pik1HgxwMdYr"
   },
   "source": [
    "👩🏻‍🏫  Great, your preprocessing is down.\n",
    "\n",
    "👇 By the way, we collected the names of the labels for you directly from [**github/zalandoresearch/fashion-mnist/labels**](https://github.com/zalandoresearch/fashion-mnist#labels)"
   ]
  },
  {
   "cell_type": "code",
   "execution_count": null,
   "metadata": {
    "id": "t_K1yT4deDwd"
   },
   "outputs": [],
   "source": [
    "labels = [\"Tshirt\",\n",
    "          \"Trouser\",\n",
    "          \"Pullover\",\n",
    "          \"Dress\",\n",
    "          \"Coat\",\n",
    "          \"Sandal\",\n",
    "          \"Shirt\",\n",
    "          \"Sneaker\",\n",
    "          \"Bag\",\n",
    "          \"Ankle boot\"]"
   ]
  },
  {
   "cell_type": "markdown",
   "metadata": {
    "id": "6DyCB0adMdYs"
   },
   "source": [
    "❓ **Question: visualizing your images** ❓\n",
    "\n",
    "Before we move on to the CNN, print some pictures randomly."
   ]
  },
  {
   "cell_type": "code",
   "execution_count": null,
   "metadata": {
    "colab": {
     "base_uri": "https://localhost:8080/",
     "height": 809
    },
    "id": "AOq2RMzMeDwd",
    "outputId": "fa23617e-a4e7-4326-f487-a0b8b3cfdb3a",
    "tags": [
     "challengify"
    ]
   },
   "outputs": [],
   "source": [
    "# YOUR CODE HERE"
   ]
  },
  {
   "cell_type": "markdown",
   "metadata": {
    "id": "LFyKfv2zMdYt"
   },
   "source": [
    "## (3) Working on a small dataset"
   ]
  },
  {
   "cell_type": "markdown",
   "metadata": {
    "id": "weLcK2i2MdYt"
   },
   "source": [
    "🔋 The idea is that it takes to much time to train a CNN on 60K pictures. Let's work on a subset of it to build and iterate over the CNN architecture and only when we are satisfied, we can train the CNN on the full training set."
   ]
  },
  {
   "cell_type": "code",
   "execution_count": null,
   "metadata": {
    "colab": {
     "base_uri": "https://localhost:8080/"
    },
    "id": "1osCnipheDwf",
    "outputId": "6b917ace-7131-44e4-bccd-760ae1f61bb5",
    "tags": [
     "challengify"
    ]
   },
   "outputs": [],
   "source": [
    "# YOUR CODE HERE"
   ]
  },
  {
   "cell_type": "markdown",
   "metadata": {
    "id": "-WnAfujNeDwi"
   },
   "source": [
    "## (4) Building and Training CNN Model\n"
   ]
  },
  {
   "cell_type": "markdown",
   "metadata": {
    "id": "0gEN6dy3eDwi"
   },
   "source": [
    "❓ **Question: Building your own CNN architecture** ❓\n",
    "\n",
    "Build a CNN with less than 0.5M parameters."
   ]
  },
  {
   "cell_type": "code",
   "execution_count": null,
   "metadata": {
    "id": "eJ9YNzbleDwj"
   },
   "outputs": [],
   "source": [
    "from tensorflow.keras import Sequential, layers, models\n",
    "\n",
    "\n",
    "def my_cnn():\n",
    "    \n",
    "    pass  # YOUR CODE HERE"
   ]
  },
  {
   "cell_type": "markdown",
   "metadata": {
    "id": "xHoMBKtbMdYu"
   },
   "source": [
    "❓ **Question: Train your model** ❓\n",
    "\n",
    "And don't forget to have a look at the convergences of the loss functions !"
   ]
  },
  {
   "cell_type": "code",
   "execution_count": null,
   "metadata": {
    "colab": {
     "base_uri": "https://localhost:8080/"
    },
    "id": "6gfUJgAdeDwj",
    "outputId": "b6b6f553-8ab0-4644-8134-3c3c3592e304",
    "tags": [
     "challengify"
    ]
   },
   "outputs": [],
   "source": [
    "# YOUR CODE HERE"
   ]
  },
  {
   "cell_type": "markdown",
   "metadata": {
    "id": "pm8KVwQMMdYv"
   },
   "source": [
    "<details>\n",
    "    <summary><i>How many sub-iterations do we have per epoch here ? </i></summary>\n",
    "    \n",
    "* We had 60 000 pictures and selected 10% of it in the train set $\\implies 6 000$ training pictures\n",
    "* We are using a batch size of 32, hence $ \\lceil \\frac{6 000}{32} \\rceil = 187.5 $ rounded up to 188 mini-batches\n",
    "* We set the validation split to 0.2, hence $ 187.5 * 0.8 = 150$ mini-batches for  the train-train set.\n",
    "</details>"
   ]
  },
  {
   "cell_type": "markdown",
   "metadata": {
    "id": "8ILiTU7bMdYv"
   },
   "source": [
    "🎁 We coded a function `plot_loss_accuracy` for you. Feel free to use it."
   ]
  },
  {
   "cell_type": "code",
   "execution_count": null,
   "metadata": {
    "id": "DH0Lqi3RMdYv"
   },
   "outputs": [],
   "source": [
    "def plot_loss_accuracy(history):\n",
    "    \n",
    "    with plt.style.context('seaborn-deep'):\n",
    "        \n",
    "        fig, ax = plt.subplots(1,2,figsize=(15,4))\n",
    "    \n",
    "        ## Plot Losses and Accuracies\n",
    "        x_axis = np.arange(len(history.history['loss']))\n",
    "        \n",
    "        ax[0].set_title(\"Loss\")\n",
    "        ax[0].plot(x_axis, history.history['loss'], color = \"blue\", linestyle = \":\", marker = \"X\", label = \"Train Loss\")\n",
    "        ax[0].plot(x_axis, history.history['val_loss'], color = \"orange\", linestyle = \"-\", marker = \"X\", label = \"Val Loss\")\n",
    "        \n",
    "        ax[1].set_title(\"Accuracy\")\n",
    "        ax[1].plot(x_axis, history.history['accuracy'], color = \"blue\", linestyle = \":\", marker = \"X\", label = \"Train Accuracy\")\n",
    "        ax[1].plot(x_axis, history.history['val_accuracy'], color = \"orange\", linestyle = \"-\", marker = \"X\", label = \"Val Accuracy\")    \n",
    "        \n",
    "        ## Customization\n",
    "        ax[0].grid(axis = \"x\", linewidth = 0.5)\n",
    "        ax[0].grid(axis = \"y\", linewidth = 0.5)\n",
    "        ax[0].legend()        \n",
    "        ax[1].grid(axis = \"x\", linewidth = 0.5)\n",
    "        ax[1].grid(axis = \"y\", linewidth = 0.5)     \n",
    "        ax[1].legend()\n",
    "        \n",
    "        plt.show()"
   ]
  },
  {
   "cell_type": "code",
   "execution_count": null,
   "metadata": {
    "colab": {
     "base_uri": "https://localhost:8080/",
     "height": 281
    },
    "id": "UJjPTLgDMdYv",
    "outputId": "4ac63685-58ec-452d-8e0f-35d725999978",
    "tags": [
     "challengify"
    ]
   },
   "outputs": [],
   "source": [
    "# YOUR CODE HERE"
   ]
  },
  {
   "cell_type": "markdown",
   "metadata": {
    "id": "h5HwO2IEMdYv"
   },
   "source": [
    "❓ **Question: Evaluate your CNN** ❓"
   ]
  },
  {
   "cell_type": "code",
   "execution_count": null,
   "metadata": {
    "colab": {
     "base_uri": "https://localhost:8080/"
    },
    "id": "YnuICpjueDwk",
    "outputId": "1c7934b3-95bf-48a1-a511-7a820a673be9",
    "tags": [
     "challengify"
    ]
   },
   "outputs": [],
   "source": [
    "# YOUR CODE HERE"
   ]
  },
  {
   "cell_type": "markdown",
   "metadata": {
    "id": "H26YznRmMdYx"
   },
   "source": [
    "❓ **Question: let's have a look at the confusion matrix** ❓"
   ]
  },
  {
   "cell_type": "markdown",
   "metadata": {
    "id": "adGTA-5_MdYx"
   },
   "source": [
    "<b><u>Step 1</u></b>: Compute the probabilities of belonging to one of the ten classes for each picture"
   ]
  },
  {
   "cell_type": "code",
   "execution_count": null,
   "metadata": {
    "colab": {
     "base_uri": "https://localhost:8080/"
    },
    "id": "SF-ASPXteDwk",
    "outputId": "4ba12afe-c771-4a4c-f83e-6c0788fa71dd",
    "tags": [
     "challengify"
    ]
   },
   "outputs": [],
   "source": [
    "# YOUR CODE HERE"
   ]
  },
  {
   "cell_type": "markdown",
   "metadata": {
    "id": "ApR9vBXMeDwk"
   },
   "source": [
    "<b><u>Step 2</u></b>: Compute the predicted class for each picture"
   ]
  },
  {
   "cell_type": "code",
   "execution_count": null,
   "metadata": {
    "id": "fzCNAMRFeDwl",
    "tags": [
     "challengify"
    ]
   },
   "outputs": [],
   "source": [
    "# YOUR CODE HERE"
   ]
  },
  {
   "cell_type": "markdown",
   "metadata": {
    "id": "n14F-oJDMdYz"
   },
   "source": [
    "<b><u>Step 3a</u></b>: Finally, you are now able to compute the Confusion Matrix"
   ]
  },
  {
   "cell_type": "code",
   "execution_count": null,
   "metadata": {
    "colab": {
     "base_uri": "https://localhost:8080/",
     "height": 580
    },
    "id": "l_uIbGoyeDwl",
    "outputId": "ed95a947-53aa-4b9d-bd76-1579e1ac0b0a",
    "tags": [
     "challengify"
    ]
   },
   "outputs": [],
   "source": [
    "# YOUR CODE HERE"
   ]
  },
  {
   "cell_type": "markdown",
   "metadata": {
    "id": "DJb7XdpDShmA"
   },
   "source": [
    "<b><u>Step 3b</u></b>: For each class, how many occurences were your model able to capture ? (i.e. we are focusing on the recall for each class)"
   ]
  },
  {
   "cell_type": "code",
   "execution_count": null,
   "metadata": {
    "colab": {
     "base_uri": "https://localhost:8080/",
     "height": 580
    },
    "id": "2SPADxsPSuha",
    "outputId": "e11a1406-6d10-4fbe-eb5e-22507fc4afe3"
   },
   "outputs": [],
   "source": [
    "cm_normalized_by_true_class = cm / cm.sum(axis = 0)\n",
    "\n",
    "disp_normalized_by_true_class = ConfusionMatrixDisplay(confusion_matrix = cm_normalized_by_true_class,\n",
    "                                                       display_labels = labels);\n",
    "\n",
    "fig, ax = plt.subplots(figsize=(10,10));\n",
    "disp_normalized_by_true_class.plot(cmap = \"PuRd\", ax = ax);"
   ]
  },
  {
   "cell_type": "markdown",
   "metadata": {
    "id": "HGilOiRAMdYz"
   },
   "source": [
    "❓ **Question: Do you think it would be useful to try a  VGG16**❓"
   ]
  },
  {
   "cell_type": "markdown",
   "metadata": {
    "id": "qhaBNMy5psY1"
   },
   "source": [
    "<details>\n",
    "    <summary>Answer</summary>\n",
    "\n",
    "* It would be overkill as we already reached a great performance with a homemade CNN\n",
    "* VGG16 was trained on RGB pictures... with our grayscaled pictures, we could [this trick](https://stackoverflow.com/questions/51995977/how-can-i-use-a-pre-trained-neural-network-with-grayscale-images) which consists in repeating the black-and-white channel twice but again it is overkill\n",
    "* Moreover, the pictures are too small $ 28 \\times 28 $ which doesn't fit the minimum size of $ 28 \\times 28 $ required to use VGG16\n",
    "\n",
    "</details>"
   ]
  },
  {
   "cell_type": "markdown",
   "metadata": {
    "id": "altYoU3tMdY0"
   },
   "source": [
    "<u>If you worked on this challenge locally:</u>\n",
    "\n",
    "\n",
    "🏁 **Congratulations! You made it and demystified CNN!** 🏁 \n",
    "\n",
    "💾 Don't forget to `git add/commit/push` your notebook...\n",
    "\n",
    "🚀 ... and move on to the next challenge !\n",
    "\n",
    "---"
   ]
  },
  {
   "cell_type": "markdown",
   "metadata": {
    "id": "27rH0xB2MdY1"
   },
   "source": [
    "<u>If you worked on this challenge on Google Colab:</u>\n",
    "\n",
    "\n",
    "🏁 **Congratulations! You made it and demystified CNN!** 🏁 \n",
    "\n",
    "1. Download this notebook from your `Google Drive` or directly from `Google Colab` \n",
    "2. Drag-and-drop it from your `Downloads` folder to your local `[GITHUB_USERNAME]/data-challenges/06-Deep-Learning/03-Convolutional-Neural-Networks/01-mnist-classification`\n",
    "\n",
    "\n",
    "💾 Don't forget to push \n",
    "\n",
    "3. Follow the usual procedure on your terminal in the `06-Deep-Learning/03-Convolutional-Neural-Networks/01-mnist-classification` folder:\n",
    "      * *git add mnist_classification.ipynb*\n",
    "      * *git commit -m \"I think I am falling in love with CNN\"*\n",
    "      * *git push origin master*\n",
    "\n",
    "*Hint*: To find where this Colab notebook has been saved, click on `File` $\\rightarrow$ `Locate in Drive`.\n",
    "\n",
    "🚀 ... and move on to the next challenge !"
   ]
  }
 ],
 "metadata": {
  "colab": {
   "collapsed_sections": [],
   "name": "fashion_mnist.ipynb",
   "provenance": [],
   "toc_visible": true
  },
  "kernelspec": {
   "display_name": "Python 3 (ipykernel)",
   "language": "python",
   "name": "python3"
  },
  "language_info": {
   "codemirror_mode": {
    "name": "ipython",
    "version": 3
   },
   "file_extension": ".py",
   "mimetype": "text/x-python",
   "name": "python",
   "nbconvert_exporter": "python",
   "pygments_lexer": "ipython3",
   "version": "3.8.12"
  },
  "latex_envs": {
   "LaTeX_envs_menu_present": true,
   "autoclose": false,
   "autocomplete": true,
   "bibliofile": "biblio.bib",
   "cite_by": "apalike",
   "current_citInitial": 1,
   "eqLabelWithNumbers": true,
   "eqNumInitial": 1,
   "hotkeys": {
    "equation": "Ctrl-E",
    "itemize": "Ctrl-I"
   },
   "labels_anchors": false,
   "latex_user_defs": false,
   "report_style_numbering": false,
   "user_envs_cfg": false
  },
  "toc": {
   "base_numbering": 1,
   "nav_menu": {},
   "number_sections": false,
   "sideBar": true,
   "skip_h1_title": false,
   "title_cell": "Table of Contents",
   "title_sidebar": "Contents",
   "toc_cell": false,
   "toc_position": {
    "height": "calc(100% - 180px)",
    "left": "10px",
    "top": "150px",
    "width": "259.091px"
   },
   "toc_section_display": true,
   "toc_window_display": true
  },
  "varInspector": {
   "cols": {
    "lenName": 16,
    "lenType": 16,
    "lenVar": 40
   },
   "kernels_config": {
    "python": {
     "delete_cmd_postfix": "",
     "delete_cmd_prefix": "del ",
     "library": "var_list.py",
     "varRefreshCmd": "print(var_dic_list())"
    },
    "r": {
     "delete_cmd_postfix": ") ",
     "delete_cmd_prefix": "rm(",
     "library": "var_list.r",
     "varRefreshCmd": "cat(var_dic_list()) "
    }
   },
   "types_to_exclude": [
    "module",
    "function",
    "builtin_function_or_method",
    "instance",
    "_Feature"
   ],
   "window_display": false
  }
 },
 "nbformat": 4,
 "nbformat_minor": 1
}
