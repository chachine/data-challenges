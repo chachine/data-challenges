{
 "cells": [
  {
   "cell_type": "markdown",
   "metadata": {
    "id": "IKnWkHVG4Fbq"
   },
   "source": [
    "# Spotify Challenge - Clustering songs- Unsupervised Learning"
   ]
  },
  {
   "cell_type": "markdown",
   "metadata": {},
   "source": [
    "🎯 The goal of this recap is to **cluster songs** using the **KMeans _(clustering algorithm)_** with a **PCA _(dimensionality reduction)_**"
   ]
  },
  {
   "cell_type": "code",
   "execution_count": 1,
   "metadata": {
    "executionInfo": {
     "elapsed": 8975,
     "status": "ok",
     "timestamp": 1620776540243,
     "user": {
      "displayName": "Davy W",
      "photoUrl": "https://lh3.googleusercontent.com/a-/AOh14GikpfvF6ciO03U9wu6upZcnxF3ZWjP-0L9AmJ_P_w=s64",
      "userId": "17867856157297418309"
     },
     "user_tz": -120
    },
    "id": "RBZgnTGM330h"
   },
   "outputs": [],
   "source": [
    "# Data Manipulation\n",
    "import numpy as np\n",
    "import pandas as pd\n",
    "pd.set_option('display.max_columns', None)\n",
    "\n",
    "# Data Visualisation\n",
    "import matplotlib.pyplot as plt\n",
    "import seaborn as sns\n",
    "import plotly.express as px\n",
    "\n",
    "# Pipeline and Column Transformers\n",
    "from sklearn.pipeline import Pipeline\n",
    "from sklearn.compose import ColumnTransformer, make_column_selector\n",
    "from sklearn import set_config\n",
    "set_config(display = \"diagram\")\n",
    "\n",
    "# Scaling\n",
    "from sklearn.preprocessing import RobustScaler, StandardScaler, MinMaxScaler\n",
    "\n",
    "# Cross Validation\n",
    "from sklearn.model_selection import cross_validate\n",
    "from sklearn.model_selection import cross_val_predict\n",
    "\n",
    "# Unsupervised Learning\n",
    "from sklearn.decomposition import PCA\n",
    "from sklearn.cluster import KMeans \n",
    "\n",
    "# STATISTICS\n",
    "from statsmodels.graphics.gofplots import qqplot\n",
    "# This function plots your sample against a Normal distribution, \n",
    "# to see whether your sample is normally distributed or not"
   ]
  },
  {
   "cell_type": "markdown",
   "metadata": {
    "id": "Isttjguc330r"
   },
   "source": [
    "## (1) The Spotify Dataset"
   ]
  },
  {
   "cell_type": "code",
   "execution_count": 2,
   "metadata": {
    "colab": {
     "base_uri": "https://localhost:8080/",
     "height": 247
    },
    "executionInfo": {
     "elapsed": 8368,
     "status": "ok",
     "timestamp": 1620776540244,
     "user": {
      "displayName": "Davy W",
      "photoUrl": "https://lh3.googleusercontent.com/a-/AOh14GikpfvF6ciO03U9wu6upZcnxF3ZWjP-0L9AmJ_P_w=s64",
      "userId": "17867856157297418309"
     },
     "user_tz": -120
    },
    "id": "aQ8d0qbi330r",
    "outputId": "ff339c65-8141-46ba-d8cb-fc6e3f6487c4",
    "scrolled": false
   },
   "outputs": [],
   "source": [
    "spotify = pd.read_csv('https://wagon-public-datasets.s3.amazonaws.com/Machine%20Learning%20Datasets/ML_spotify_data.csv')\n",
    "spotify.head()"
   ]
  },
  {
   "cell_type": "markdown",
   "metadata": {},
   "source": [
    "### (1.1) Basic Info"
   ]
  },
  {
   "cell_type": "code",
   "execution_count": 3,
   "metadata": {
    "tags": [
     "challengify"
    ]
   },
   "outputs": [],
   "source": [
    "# YOUR CODE HERE"
   ]
  },
  {
   "cell_type": "markdown",
   "metadata": {},
   "source": [
    "### (1.2) Working on the numerical features"
   ]
  },
  {
   "cell_type": "markdown",
   "metadata": {},
   "source": [
    "🔢  Let's focus on the numerical features:"
   ]
  },
  {
   "cell_type": "code",
   "execution_count": 4,
   "metadata": {
    "tags": [
     "challengify"
    ]
   },
   "outputs": [],
   "source": [
    "# YOUR CODE HERE"
   ]
  },
  {
   "cell_type": "markdown",
   "metadata": {},
   "source": [
    "### (1.3) Correlations between features"
   ]
  },
  {
   "cell_type": "markdown",
   "metadata": {},
   "source": [
    "፨ Visualize the correlation matrix (`PuRd` is a nice cmap choice)"
   ]
  },
  {
   "cell_type": "code",
   "execution_count": 5,
   "metadata": {
    "tags": [
     "challengify"
    ]
   },
   "outputs": [],
   "source": [
    "# YOUR CODE HERE"
   ]
  },
  {
   "cell_type": "markdown",
   "metadata": {},
   "source": [
    "### (1.4) 3D Visualisation"
   ]
  },
  {
   "cell_type": "markdown",
   "metadata": {},
   "source": [
    "🎨 Let's select 3 features of these songs and visualise them in a 3D-scatter-plot `plotly`:"
   ]
  },
  {
   "cell_type": "code",
   "execution_count": 7,
   "metadata": {
    "tags": [
     "challengify"
    ]
   },
   "outputs": [],
   "source": [
    "# YOUR CODE HERE"
   ]
  },
  {
   "cell_type": "markdown",
   "metadata": {},
   "source": [
    "🎯 _Remember: our goal is to cluster these songs_"
   ]
  },
  {
   "cell_type": "markdown",
   "metadata": {
    "id": "guf1zR-1330_"
   },
   "source": [
    "## (2) Unsupervised Learning: Clustering"
   ]
  },
  {
   "cell_type": "markdown",
   "metadata": {},
   "source": [
    "### (2.1) Vanilla KMeans"
   ]
  },
  {
   "cell_type": "markdown",
   "metadata": {
    "id": "q2bDYCmo330_"
   },
   "source": [
    "💫 Let's try our first _Unsupervised Algorithm_, the **`KMeans`** directly `spotify_num` without any transformation."
   ]
  },
  {
   "cell_type": "code",
   "execution_count": 8,
   "metadata": {
    "colab": {
     "base_uri": "https://localhost:8080/"
    },
    "executionInfo": {
     "elapsed": 6735,
     "status": "ok",
     "timestamp": 1620776552153,
     "user": {
      "displayName": "Davy W",
      "photoUrl": "https://lh3.googleusercontent.com/a-/AOh14GikpfvF6ciO03U9wu6upZcnxF3ZWjP-0L9AmJ_P_w=s64",
      "userId": "17867856157297418309"
     },
     "user_tz": -120
    },
    "id": "EY_bCkju331G",
    "outputId": "d1dbca30-7a23-4fe5-de5c-460bb05810ce"
   },
   "outputs": [],
   "source": [
    "kmeans_vanilla = KMeans(n_clusters = 8) # 8 is the default number of clusters in the KMeans implemented by SKLearn\n",
    "kmeans_vanilla.fit(spotify_num)"
   ]
  },
  {
   "cell_type": "code",
   "execution_count": 9,
   "metadata": {
    "colab": {
     "base_uri": "https://localhost:8080/"
    },
    "executionInfo": {
     "elapsed": 6470,
     "status": "ok",
     "timestamp": 1620776552154,
     "user": {
      "displayName": "Davy W",
      "photoUrl": "https://lh3.googleusercontent.com/a-/AOh14GikpfvF6ciO03U9wu6upZcnxF3ZWjP-0L9AmJ_P_w=s64",
      "userId": "17867856157297418309"
     },
     "user_tz": -120
    },
    "id": "S5nqZb1u331G",
    "outputId": "76473ec5-9d5c-45d9-d989-04a684e4d5bb"
   },
   "outputs": [],
   "source": [
    "labels_vanilla = kmeans_vanilla.labels_\n",
    "labels_vanilla"
   ]
  },
  {
   "cell_type": "code",
   "execution_count": 10,
   "metadata": {
    "colab": {
     "base_uri": "https://localhost:8080/",
     "height": 542
    },
    "executionInfo": {
     "elapsed": 6286,
     "status": "ok",
     "timestamp": 1620776552155,
     "user": {
      "displayName": "Davy W",
      "photoUrl": "https://lh3.googleusercontent.com/a-/AOh14GikpfvF6ciO03U9wu6upZcnxF3ZWjP-0L9AmJ_P_w=s64",
      "userId": "17867856157297418309"
     },
     "user_tz": -120
    },
    "id": "ddplh3YR331G",
    "outputId": "4f59922f-80a2-46be-9e58-ffc637a982ba"
   },
   "outputs": [],
   "source": [
    "fig = px.scatter_3d(spotify_num, \n",
    "                    x = 'danceability',\n",
    "                    y = 'energy',\n",
    "                    z = 'speechiness',\n",
    "                    color = labels_vanilla)\n",
    "fig.show()"
   ]
  },
  {
   "cell_type": "markdown",
   "metadata": {
    "id": "nnTOwGXa331H"
   },
   "source": [
    "😭 It doesn't look good at all... who would pay 10-15 euros a month to Spotify, Apple Music, Deezer, Amazon Music or Tidal for that ?"
   ]
  },
  {
   "cell_type": "markdown",
   "metadata": {
    "id": "H_MwuAJc7Km-"
   },
   "source": [
    "### (2.2) Scaling + KMeans"
   ]
  },
  {
   "cell_type": "markdown",
   "metadata": {},
   "source": [
    "🪜 Remember that the KMeans is a distance-based algorithm and that for any Machine Learning model, we should scale the features so that they start with an \"equal chance\" of impacting the predictions."
   ]
  },
  {
   "cell_type": "code",
   "execution_count": 11,
   "metadata": {
    "tags": [
     "challengify"
    ]
   },
   "outputs": [],
   "source": [
    "# YOUR CODE HERE"
   ]
  },
  {
   "cell_type": "code",
   "execution_count": 12,
   "metadata": {
    "tags": [
     "challengify"
    ]
   },
   "outputs": [],
   "source": [
    "# YOUR CODE HERE"
   ]
  },
  {
   "cell_type": "code",
   "execution_count": 14,
   "metadata": {},
   "outputs": [],
   "source": [
    "spotify_scaled = pd.DataFrame(scalers.fit_transform(spotify_num))\n",
    "spotify_scaled.columns = features_robust + features_standard + features_minmax\n",
    "spotify_scaled"
   ]
  },
  {
   "cell_type": "markdown",
   "metadata": {
    "id": "s3i2khNt331H"
   },
   "source": [
    "🙏 What if we could cluster our songs now that our data are scaled ? Store your clusters in a new column."
   ]
  },
  {
   "cell_type": "code",
   "execution_count": 15,
   "metadata": {
    "colab": {
     "base_uri": "https://localhost:8080/"
    },
    "executionInfo": {
     "elapsed": 4165,
     "status": "ok",
     "timestamp": 1620776552159,
     "user": {
      "displayName": "Davy W",
      "photoUrl": "https://lh3.googleusercontent.com/a-/AOh14GikpfvF6ciO03U9wu6upZcnxF3ZWjP-0L9AmJ_P_w=s64",
      "userId": "17867856157297418309"
     },
     "user_tz": -120
    },
    "id": "v7Y_rouO331I",
    "outputId": "676e65d4-5e38-40e9-c3b7-5cf8c0e25474"
   },
   "outputs": [],
   "source": [
    "kmeans_scaled = KMeans(n_clusters = 8)\n",
    "kmeans_scaled.fit(spotify_scaled)"
   ]
  },
  {
   "cell_type": "code",
   "execution_count": 16,
   "metadata": {
    "colab": {
     "base_uri": "https://localhost:8080/"
    },
    "executionInfo": {
     "elapsed": 4082,
     "status": "ok",
     "timestamp": 1620776552160,
     "user": {
      "displayName": "Davy W",
      "photoUrl": "https://lh3.googleusercontent.com/a-/AOh14GikpfvF6ciO03U9wu6upZcnxF3ZWjP-0L9AmJ_P_w=s64",
      "userId": "17867856157297418309"
     },
     "user_tz": -120
    },
    "id": "FjDTmm3X331J",
    "outputId": "d598f35d-5d83-44eb-bdeb-81ef5cef83b1"
   },
   "outputs": [],
   "source": [
    "labels_scaled = kmeans_scaled.labels_\n",
    "labels_scaled"
   ]
  },
  {
   "cell_type": "markdown",
   "metadata": {
    "id": "Jvesq5Fn331J"
   },
   "source": [
    "🧪Okay, our songs'clustering look better even if we can't rival yet with the datascience team at Spotify!"
   ]
  },
  {
   "cell_type": "code",
   "execution_count": 17,
   "metadata": {
    "colab": {
     "base_uri": "https://localhost:8080/",
     "height": 542
    },
    "executionInfo": {
     "elapsed": 3444,
     "status": "ok",
     "timestamp": 1620776552164,
     "user": {
      "displayName": "Davy W",
      "photoUrl": "https://lh3.googleusercontent.com/a-/AOh14GikpfvF6ciO03U9wu6upZcnxF3ZWjP-0L9AmJ_P_w=s64",
      "userId": "17867856157297418309"
     },
     "user_tz": -120
    },
    "id": "LDwYyJKk331J",
    "outputId": "dfd67028-e2dc-486e-af26-0b7a94d5bd08"
   },
   "outputs": [],
   "source": [
    "fig_scaled = px.scatter_3d(spotify_scaled,\n",
    "                           x = 'danceability',\n",
    "                           y = 'energy',\n",
    "                           z = 'speechiness',\n",
    "                           color = labels_scaled)\n",
    "fig_scaled.show()"
   ]
  },
  {
   "cell_type": "markdown",
   "metadata": {
    "id": "1_Rv5M9O7k4_"
   },
   "source": [
    "🤪 It is a bit better but still messy..."
   ]
  },
  {
   "cell_type": "markdown",
   "metadata": {
    "id": "GPhjFO3t7zLn"
   },
   "source": [
    "### (2.3) Scaling + PCA + KMeans"
   ]
  },
  {
   "cell_type": "markdown",
   "metadata": {
    "id": "Gt8DA0ncAG72"
   },
   "source": [
    "🧑🏻‍🏫 What if we perform a PCA before running our clustering algorithm ? We could:\n",
    "* use the orthogonality of the principal components so that the KMeans algorithm increases its clustering power\n",
    "* potentially reduce dimensionality"
   ]
  },
  {
   "cell_type": "code",
   "execution_count": 18,
   "metadata": {
    "colab": {
     "base_uri": "https://localhost:8080/"
    },
    "executionInfo": {
     "elapsed": 2517,
     "status": "ok",
     "timestamp": 1620776552166,
     "user": {
      "displayName": "Davy W",
      "photoUrl": "https://lh3.googleusercontent.com/a-/AOh14GikpfvF6ciO03U9wu6upZcnxF3ZWjP-0L9AmJ_P_w=s64",
      "userId": "17867856157297418309"
     },
     "user_tz": -120
    },
    "id": "iWMalj8h7yuw",
    "outputId": "d896c053-c071-49df-99f9-d373f6c4ad98",
    "tags": [
     "challengify"
    ]
   },
   "outputs": [],
   "source": [
    "# YOUR CODE HERE"
   ]
  },
  {
   "cell_type": "markdown",
   "metadata": {},
   "source": [
    "🕵🏻 Print these components"
   ]
  },
  {
   "cell_type": "code",
   "execution_count": 19,
   "metadata": {
    "colab": {
     "base_uri": "https://localhost:8080/",
     "height": 347
    },
    "executionInfo": {
     "elapsed": 1978,
     "status": "ok",
     "timestamp": 1620776552169,
     "user": {
      "displayName": "Davy W",
      "photoUrl": "https://lh3.googleusercontent.com/a-/AOh14GikpfvF6ciO03U9wu6upZcnxF3ZWjP-0L9AmJ_P_w=s64",
      "userId": "17867856157297418309"
     },
     "user_tz": -120
    },
    "id": "GRCtfo9t7yp2",
    "outputId": "95a07dfa-d489-4a2c-df6a-c5ca3ca53841"
   },
   "outputs": [],
   "source": [
    "# Print the PCs (as rows)\n",
    "# Expressed as linear combination of initial vector basis (10 PC, with X_ columns)\n",
    "\n",
    "pass  # YOUR CODE HERE"
   ]
  },
  {
   "cell_type": "code",
   "execution_count": 20,
   "metadata": {
    "colab": {
     "base_uri": "https://localhost:8080/"
    },
    "executionInfo": {
     "elapsed": 1768,
     "status": "ok",
     "timestamp": 1620776552169,
     "user": {
      "displayName": "Davy W",
      "photoUrl": "https://lh3.googleusercontent.com/a-/AOh14GikpfvF6ciO03U9wu6upZcnxF3ZWjP-0L9AmJ_P_w=s64",
      "userId": "17867856157297418309"
     },
     "user_tz": -120
    },
    "id": "cqGLPDf87yc0",
    "outputId": "e6ea6c73-0a02-4b4f-c205-eec725d9d419"
   },
   "outputs": [],
   "source": [
    "Wt.shape"
   ]
  },
  {
   "cell_type": "markdown",
   "metadata": {},
   "source": [
    "🤔 How many principal components should we keep ?"
   ]
  },
  {
   "cell_type": "code",
   "execution_count": 21,
   "metadata": {
    "colab": {
     "base_uri": "https://localhost:8080/",
     "height": 404
    },
    "executionInfo": {
     "elapsed": 2285,
     "status": "ok",
     "timestamp": 1620776553017,
     "user": {
      "displayName": "Davy W",
      "photoUrl": "https://lh3.googleusercontent.com/a-/AOh14GikpfvF6ciO03U9wu6upZcnxF3ZWjP-0L9AmJ_P_w=s64",
      "userId": "17867856157297418309"
     },
     "user_tz": -120
    },
    "id": "AXk1xFGg-RGj",
    "outputId": "32f439ca-1b04-4aec-848b-cec0dfe40e75"
   },
   "outputs": [],
   "source": [
    "with plt.style.context('seaborn-deep'):\n",
    "    # figsize\n",
    "    plt.figure(figsize=(10,6))\n",
    "    # getting axes\n",
    "    ax = plt.gca()\n",
    "    # plotting\n",
    "    explained_variance_ratio_cumulated = np.cumsum(pca.explained_variance_ratio_)\n",
    "    x_axis_ticks = np.arange(1,explained_variance_ratio_cumulated.shape[0]+1)\n",
    "    ax.plot(x_axis_ticks,explained_variance_ratio_cumulated,label=\"cumulated variance ratio\",color=\"purple\",linestyle=\":\",marker=\"D\",markersize=10)\n",
    "    # customizing\n",
    "    ax.set_xlabel('Number of Principal Components')\n",
    "    ax.set_ylabel('% cumulated explained variance')\n",
    "    ax.legend(loc=\"upper left\")\n",
    "    ax.set_title('The Elbow Method')\n",
    "    ax.set_xticks(x_axis_ticks)\n",
    "    ax.scatter(4,explained_variance_ratio_cumulated[4-1],c='blue',s=400)\n",
    "    ax.scatter(5,explained_variance_ratio_cumulated[5-1],c='blue',s=400)\n",
    "    ax.scatter(6,explained_variance_ratio_cumulated[6-1],c='blue',s=400)\n",
    "    ax.grid(axis=\"x\",linewidth=0.5)\n",
    "    ax.grid(axis=\"y\",linewidth=0.5)"
   ]
  },
  {
   "cell_type": "markdown",
   "metadata": {},
   "source": [
    "🔮 Project your $ 10000 \\times 10$ `spotify_num` dataset into this new space with the number of principal components you decided to keep."
   ]
  },
  {
   "cell_type": "code",
   "execution_count": 22,
   "metadata": {
    "colab": {
     "base_uri": "https://localhost:8080/",
     "height": 347
    },
    "executionInfo": {
     "elapsed": 550,
     "status": "ok",
     "timestamp": 1620776555114,
     "user": {
      "displayName": "Davy W",
      "photoUrl": "https://lh3.googleusercontent.com/a-/AOh14GikpfvF6ciO03U9wu6upZcnxF3ZWjP-0L9AmJ_P_w=s64",
      "userId": "17867856157297418309"
     },
     "user_tz": -120
    },
    "id": "aP6yPJXd-hcR",
    "outputId": "685ebef5-0fc6-47ce-a18e-1060a0f0e8fd",
    "tags": [
     "challengify"
    ]
   },
   "outputs": [],
   "source": [
    "# YOUR CODE HERE"
   ]
  },
  {
   "cell_type": "markdown",
   "metadata": {
    "id": "dQDXB6ZMvMf_"
   },
   "source": [
    "### (2.4) Ideal number of clusters ? "
   ]
  },
  {
   "cell_type": "code",
   "execution_count": 29,
   "metadata": {
    "colab": {
     "base_uri": "https://localhost:8080/"
    },
    "executionInfo": {
     "elapsed": 519,
     "status": "ok",
     "timestamp": 1620776579434,
     "user": {
      "displayName": "Davy W",
      "photoUrl": "https://lh3.googleusercontent.com/a-/AOh14GikpfvF6ciO03U9wu6upZcnxF3ZWjP-0L9AmJ_P_w=s64",
      "userId": "17867856157297418309"
     },
     "user_tz": -120
    },
    "id": "IwZ_mNMNvMf_",
    "outputId": "ab83cb71-33a9-4f0e-92d0-da411ea81914"
   },
   "outputs": [],
   "source": [
    "nb_clusters_to_try = np.arange(1,20+1,1)\n",
    "nb_clusters_to_try"
   ]
  },
  {
   "cell_type": "markdown",
   "metadata": {},
   "source": [
    "<details>\n",
    "    <summary><i>Are there some number of clusters useless to try ? </i></summary>\n",
    "\n",
    "* $K = 1$ means that you would have only 1 cluster with the whole dataset of $10000$ songs\n",
    "* $K = 10000$ means that each of the $10000$ songs would be its own cluster!\n",
    "* $K = 2$ means that you would have only 2 clusters with $5000$ songs each...\n",
    "    \n",
    "        \n",
    "</details>        "
   ]
  },
  {
   "cell_type": "code",
   "execution_count": 30,
   "metadata": {
    "colab": {
     "base_uri": "https://localhost:8080/"
    },
    "executionInfo": {
     "elapsed": 42275,
     "status": "ok",
     "timestamp": 1620776621935,
     "user": {
      "displayName": "Davy W",
      "photoUrl": "https://lh3.googleusercontent.com/a-/AOh14GikpfvF6ciO03U9wu6upZcnxF3ZWjP-0L9AmJ_P_w=s64",
      "userId": "17867856157297418309"
     },
     "user_tz": -120
    },
    "id": "rJKn1yjKFOUB",
    "outputId": "16bac7b9-ef83-4190-ffc1-bec670515898"
   },
   "outputs": [],
   "source": [
    "# Apply the elbow method to find the optimal number of clusters.\n",
    "wcss = []\n",
    "\n",
    "for K in nb_clusters_to_try:\n",
    "    print('working with ' + str(K) + ' clusters...', flush=True)\n",
    "    kmeans = KMeans(n_clusters = K)\n",
    "    kmeans.fit(spotify_proj)\n",
    "    wcss.append(kmeans.inertia_)\n",
    "print(\"DONE !\")"
   ]
  },
  {
   "cell_type": "code",
   "execution_count": 48,
   "metadata": {
    "colab": {
     "base_uri": "https://localhost:8080/",
     "height": 621
    },
    "executionInfo": {
     "elapsed": 42574,
     "status": "ok",
     "timestamp": 1620776622403,
     "user": {
      "displayName": "Davy W",
      "photoUrl": "https://lh3.googleusercontent.com/a-/AOh14GikpfvF6ciO03U9wu6upZcnxF3ZWjP-0L9AmJ_P_w=s64",
      "userId": "17867856157297418309"
     },
     "user_tz": -120
    },
    "id": "EHalhxApvMgA",
    "outputId": "1e5dd4f5-82d6-4323-ba64-fe681b66248f"
   },
   "outputs": [],
   "source": [
    "with plt.style.context('seaborn-deep'):\n",
    "    # figsize\n",
    "    plt.figure(figsize=(20,10))\n",
    "    # getting axes\n",
    "    ax = plt.gca()\n",
    "    # plotting\n",
    "    ax.plot(nb_clusters_to_try, wcss,color=\"blue\",linestyle=\":\",marker=\"D\",label=\"Inertia\")\n",
    "    # customizing\n",
    "    ax.legend(loc=\"upper right\")\n",
    "    ax.set_title('The Elbow Method')\n",
    "    ax.set_xticks(nb_clusters_to_try)\n",
    "    ax.set_xlabel('Number of clusters')\n",
    "    ax.set_ylabel('Within-Cluster Sums of Squares')\n",
    "    \n",
    "    # highlting the elbows and some interesting values\n",
    "    ax.scatter(4,wcss[4-1],c='red',s=400)\n",
    "    \n",
    "    ax.scatter(6,wcss[6-1],c='red',s=400)\n",
    "    ax.scatter(8,wcss[8-1],c='red',s=400)\n",
    "    ax.scatter(9,wcss[9-1],c='red',s=400)\n",
    "    \n",
    "    # annotate\n",
    "    ax.annotate(\"Spotify\", \n",
    "                (6,wcss[6-1]),\n",
    "                (6+0.50,wcss[6-1]+5000), \n",
    "                arrowprops=dict(facecolor='black'),\n",
    "                fontsize=16,\n",
    "                horizontalalignment='right', \n",
    "                verticalalignment='top')\n",
    "    \n",
    "    ax.grid(axis=\"y\",linewidth=0.5)\n",
    "    plt.show()"
   ]
  },
  {
   "cell_type": "markdown",
   "metadata": {},
   "source": [
    "### (2.5) YellowBricks and Elbow Method"
   ]
  },
  {
   "cell_type": "markdown",
   "metadata": {
    "id": "4qAyqoyivMgA"
   },
   "source": [
    "📚 There is a nice ***Data Visualisation*** library dedicated to Machine Learning algorithms which is called [**`YellowBricks`**]."
   ]
  },
  {
   "cell_type": "markdown",
   "metadata": {},
   "source": [
    "⚙️ Install the library"
   ]
  },
  {
   "cell_type": "code",
   "execution_count": 49,
   "metadata": {
    "colab": {
     "base_uri": "https://localhost:8080/"
    },
    "executionInfo": {
     "elapsed": 44665,
     "status": "ok",
     "timestamp": 1620776625082,
     "user": {
      "displayName": "Davy W",
      "photoUrl": "https://lh3.googleusercontent.com/a-/AOh14GikpfvF6ciO03U9wu6upZcnxF3ZWjP-0L9AmJ_P_w=s64",
      "userId": "17867856157297418309"
     },
     "user_tz": -120
    },
    "id": "seh-Tjwmy8Ay",
    "outputId": "cde2f228-a306-481a-d2d6-76b2a6535680"
   },
   "outputs": [],
   "source": [
    "# !pip install yellowbrick"
   ]
  },
  {
   "cell_type": "code",
   "execution_count": 50,
   "metadata": {
    "colab": {
     "base_uri": "https://localhost:8080/"
    },
    "executionInfo": {
     "elapsed": 3857,
     "status": "ok",
     "timestamp": 1620776921426,
     "user": {
      "displayName": "Davy W",
      "photoUrl": "https://lh3.googleusercontent.com/a-/AOh14GikpfvF6ciO03U9wu6upZcnxF3ZWjP-0L9AmJ_P_w=s64",
      "userId": "17867856157297418309"
     },
     "user_tz": -120
    },
    "id": "_6DfSyp21O-U",
    "outputId": "de651a9d-d21e-44ee-fc2e-c5a7b89f762b"
   },
   "outputs": [],
   "source": [
    "# !pip install --upgrade yellowbrick"
   ]
  },
  {
   "cell_type": "markdown",
   "metadata": {},
   "source": [
    "6️⃣ Try to find the Elbow of the KMeans algorithm on Spotify using the ***KElbowVisualizer***"
   ]
  },
  {
   "cell_type": "code",
   "execution_count": 34,
   "metadata": {
    "colab": {
     "base_uri": "https://localhost:8080/",
     "height": 477
    },
    "executionInfo": {
     "elapsed": 463,
     "status": "error",
     "timestamp": 1620776928284,
     "user": {
      "displayName": "Davy W",
      "photoUrl": "https://lh3.googleusercontent.com/a-/AOh14GikpfvF6ciO03U9wu6upZcnxF3ZWjP-0L9AmJ_P_w=s64",
      "userId": "17867856157297418309"
     },
     "user_tz": -120
    },
    "id": "uwu8EcZv1Kmh",
    "outputId": "fa4229b0-99bc-4826-80ca-5fe434c99e2e"
   },
   "outputs": [],
   "source": [
    "from yellowbrick.cluster import KElbowVisualizer"
   ]
  },
  {
   "cell_type": "code",
   "execution_count": 35,
   "metadata": {
    "colab": {
     "base_uri": "https://localhost:8080/",
     "height": 531
    },
    "executionInfo": {
     "elapsed": 44080,
     "status": "error",
     "timestamp": 1620776625387,
     "user": {
      "displayName": "Davy W",
      "photoUrl": "https://lh3.googleusercontent.com/a-/AOh14GikpfvF6ciO03U9wu6upZcnxF3ZWjP-0L9AmJ_P_w=s64",
      "userId": "17867856157297418309"
     },
     "user_tz": -120
    },
    "id": "Avbfoxj9vMgA",
    "outputId": "368f6a6b-8181-4c6f-c14b-07cef45e9967",
    "tags": [
     "challengify"
    ]
   },
   "outputs": [],
   "source": [
    "# YOUR CODE HERE"
   ]
  },
  {
   "cell_type": "markdown",
   "metadata": {},
   "source": [
    "👉 This `KElbowVisualizer` was able to detect the elbow at $ K = 4 $ but we could think that we would deserve more curated playlists knowing that the service costs 10-15 USD. Let's use $ K = 6$ instead and build the playlists."
   ]
  },
  {
   "cell_type": "markdown",
   "metadata": {
    "id": "bK3El5vbvMgD"
   },
   "source": [
    "### (2.6) Spotify : 6 daily mixes"
   ]
  },
  {
   "cell_type": "code",
   "execution_count": 36,
   "metadata": {
    "colab": {
     "base_uri": "https://localhost:8080/",
     "height": 595
    },
    "executionInfo": {
     "elapsed": 13282,
     "status": "ok",
     "timestamp": 1620776953583,
     "user": {
      "displayName": "Davy W",
      "photoUrl": "https://lh3.googleusercontent.com/a-/AOh14GikpfvF6ciO03U9wu6upZcnxF3ZWjP-0L9AmJ_P_w=s64",
      "userId": "17867856157297418309"
     },
     "user_tz": -120
    },
    "id": "E1AazTXGvMgD",
    "outputId": "6d78cfad-4b47-4e7f-c962-e5df3d91e2b7"
   },
   "outputs": [],
   "source": [
    "spotify_clusters = 6\n",
    "\n",
    "print('Working with ' + str(spotify_clusters) + ' clusters as in Spotify', flush=True)\n",
    "print(\"-\"*80)\n",
    "\n",
    "kmeans = KMeans(n_clusters = spotify_clusters, max_iter = 300)\n",
    "\n",
    "kmeans.fit(spotify_proj)\n",
    "\n",
    "labelling = kmeans.labels_\n",
    "\n",
    "fig_scaled = px.scatter_3d(spotify_proj,\n",
    "                           x = 0,\n",
    "                           y = 1,\n",
    "                           z = 2,\n",
    "                           color=labelling)\n",
    "fig_scaled.show()"
   ]
  },
  {
   "cell_type": "code",
   "execution_count": 37,
   "metadata": {
    "colab": {
     "base_uri": "https://localhost:8080/",
     "height": 606
    },
    "executionInfo": {
     "elapsed": 13161,
     "status": "ok",
     "timestamp": 1620776953584,
     "user": {
      "displayName": "Davy W",
      "photoUrl": "https://lh3.googleusercontent.com/a-/AOh14GikpfvF6ciO03U9wu6upZcnxF3ZWjP-0L9AmJ_P_w=s64",
      "userId": "17867856157297418309"
     },
     "user_tz": -120
    },
    "id": "3x-6qUZNvMgE",
    "outputId": "ad3b3675-0ef7-4142-8928-d0bec7c67363"
   },
   "outputs": [],
   "source": [
    "spotify_labelled = pd.concat([spotify,pd.Series(labelling)],axis=1).rename(columns={0:\"label\"})\n",
    "spotify_labelled"
   ]
  },
  {
   "cell_type": "code",
   "execution_count": 38,
   "metadata": {
    "colab": {
     "base_uri": "https://localhost:8080/"
    },
    "executionInfo": {
     "elapsed": 12962,
     "status": "ok",
     "timestamp": 1620776953587,
     "user": {
      "displayName": "Davy W",
      "photoUrl": "https://lh3.googleusercontent.com/a-/AOh14GikpfvF6ciO03U9wu6upZcnxF3ZWjP-0L9AmJ_P_w=s64",
      "userId": "17867856157297418309"
     },
     "user_tz": -120
    },
    "id": "FDd53YPPvMgE",
    "outputId": "f20234a5-bb5d-475b-de72-7987fc2f3d93"
   },
   "outputs": [],
   "source": [
    "np.unique(labelling)"
   ]
  },
  {
   "cell_type": "code",
   "execution_count": 39,
   "metadata": {
    "colab": {
     "base_uri": "https://localhost:8080/"
    },
    "executionInfo": {
     "elapsed": 12776,
     "status": "ok",
     "timestamp": 1620776953589,
     "user": {
      "displayName": "Davy W",
      "photoUrl": "https://lh3.googleusercontent.com/a-/AOh14GikpfvF6ciO03U9wu6upZcnxF3ZWjP-0L9AmJ_P_w=s64",
      "userId": "17867856157297418309"
     },
     "user_tz": -120
    },
    "id": "UfT-18nyvMgE",
    "outputId": "48aa3ad6-d0a5-4c88-a71c-ac4b61ed5b1f"
   },
   "outputs": [],
   "source": [
    "spotify_labelled.label.value_counts()"
   ]
  },
  {
   "cell_type": "code",
   "execution_count": 40,
   "metadata": {
    "executionInfo": {
     "elapsed": 12464,
     "status": "ok",
     "timestamp": 1620776953590,
     "user": {
      "displayName": "Davy W",
      "photoUrl": "https://lh3.googleusercontent.com/a-/AOh14GikpfvF6ciO03U9wu6upZcnxF3ZWjP-0L9AmJ_P_w=s64",
      "userId": "17867856157297418309"
     },
     "user_tz": -120
    },
    "id": "NCMT3YpuvMgF"
   },
   "outputs": [],
   "source": [
    "daily_mixes = {}\n",
    "\n",
    "for numero_cluster in np.unique(labelling):\n",
    "    daily_mixes[numero_cluster] = spotify_labelled[spotify_labelled.label == numero_cluster]"
   ]
  },
  {
   "cell_type": "code",
   "execution_count": 41,
   "metadata": {
    "colab": {
     "base_uri": "https://localhost:8080/",
     "height": 1000
    },
    "executionInfo": {
     "elapsed": 12273,
     "status": "ok",
     "timestamp": 1620776953592,
     "user": {
      "displayName": "Davy W",
      "photoUrl": "https://lh3.googleusercontent.com/a-/AOh14GikpfvF6ciO03U9wu6upZcnxF3ZWjP-0L9AmJ_P_w=s64",
      "userId": "17867856157297418309"
     },
     "user_tz": -120
    },
    "id": "9TPLdgoqvMgF",
    "outputId": "31903c1e-62e8-4b19-edd8-aa04827e0a15"
   },
   "outputs": [],
   "source": [
    "for key,value in daily_mixes.items():\n",
    "    print(\"-\"*100)\n",
    "    print(f\"Here are some songs for the playlist number {key}\")\n",
    "    print(\"-\"*100)\n",
    "    display(value.sample(20))"
   ]
  },
  {
   "cell_type": "markdown",
   "metadata": {
    "id": "KjDa-3xWvMgF"
   },
   "source": [
    "### (2.7) Pipeling the labelling process"
   ]
  },
  {
   "cell_type": "code",
   "execution_count": 42,
   "metadata": {
    "colab": {
     "base_uri": "https://localhost:8080/",
     "height": 143
    },
    "executionInfo": {
     "elapsed": 11756,
     "status": "ok",
     "timestamp": 1620776953592,
     "user": {
      "displayName": "Davy W",
      "photoUrl": "https://lh3.googleusercontent.com/a-/AOh14GikpfvF6ciO03U9wu6upZcnxF3ZWjP-0L9AmJ_P_w=s64",
      "userId": "17867856157297418309"
     },
     "user_tz": -120
    },
    "id": "iF7tZnbwvMgF",
    "outputId": "1114b407-39fe-429f-ebb3-74faa874ee04"
   },
   "outputs": [],
   "source": [
    "from sklearn import set_config; set_config(display=\"diagram\")  \n",
    "\n",
    "from sklearn.pipeline import Pipeline\n",
    "\n",
    "from sklearn.preprocessing import StandardScaler\n",
    "from sklearn.decomposition import PCA\n",
    "from sklearn.cluster import KMeans\n",
    "\n",
    "pipeline_spotify = Pipeline([\n",
    "    (\"scaler\",StandardScaler()),\n",
    "    (\"pca\",PCA()),\n",
    "    (\"kmeans\",KMeans())\n",
    "])\n",
    "\n",
    "pipeline_spotify"
   ]
  },
  {
   "cell_type": "code",
   "execution_count": 43,
   "metadata": {
    "colab": {
     "base_uri": "https://localhost:8080/",
     "height": 406
    },
    "executionInfo": {
     "elapsed": 11420,
     "status": "ok",
     "timestamp": 1620776953593,
     "user": {
      "displayName": "Davy W",
      "photoUrl": "https://lh3.googleusercontent.com/a-/AOh14GikpfvF6ciO03U9wu6upZcnxF3ZWjP-0L9AmJ_P_w=s64",
      "userId": "17867856157297418309"
     },
     "user_tz": -120
    },
    "id": "o37xV9llvMgG",
    "outputId": "6c25011a-6a4a-4ba3-835d-e42c3803ca1b"
   },
   "outputs": [],
   "source": [
    "spotify_num"
   ]
  },
  {
   "cell_type": "code",
   "execution_count": 44,
   "metadata": {
    "colab": {
     "base_uri": "https://localhost:8080/",
     "height": 143
    },
    "executionInfo": {
     "elapsed": 11826,
     "status": "ok",
     "timestamp": 1620776954564,
     "user": {
      "displayName": "Davy W",
      "photoUrl": "https://lh3.googleusercontent.com/a-/AOh14GikpfvF6ciO03U9wu6upZcnxF3ZWjP-0L9AmJ_P_w=s64",
      "userId": "17867856157297418309"
     },
     "user_tz": -120
    },
    "id": "-GVWwrjWvMgG",
    "outputId": "c404d12a-f4a1-497e-c94a-bb34add98e38"
   },
   "outputs": [],
   "source": [
    "pipeline_spotify.fit(spotify_num)"
   ]
  },
  {
   "cell_type": "code",
   "execution_count": 45,
   "metadata": {
    "executionInfo": {
     "elapsed": 11250,
     "status": "ok",
     "timestamp": 1620776954567,
     "user": {
      "displayName": "Davy W",
      "photoUrl": "https://lh3.googleusercontent.com/a-/AOh14GikpfvF6ciO03U9wu6upZcnxF3ZWjP-0L9AmJ_P_w=s64",
      "userId": "17867856157297418309"
     },
     "user_tz": -120
    },
    "id": "BIdlZlehvMgG"
   },
   "outputs": [],
   "source": [
    "labels_spotify_with_pipeline = pipeline_spotify.predict(spotify_num)\n",
    "labels_spotify_with_pipeline"
   ]
  },
  {
   "cell_type": "code",
   "execution_count": 51,
   "metadata": {},
   "outputs": [],
   "source": [
    "fig_scaled = px.scatter_3d(spotify_proj,\n",
    "                           x = 0, \n",
    "                           y = 1,\n",
    "                           z = 2,\n",
    "                           color = labels_spotify_with_pipeline)\n",
    "fig_scaled.show()"
   ]
  },
  {
   "cell_type": "markdown",
   "metadata": {
    "id": "QGYYA-zhvMgI"
   },
   "source": [
    "## (3) (Optional) To go the extra mile..."
   ]
  },
  {
   "cell_type": "markdown",
   "metadata": {},
   "source": [
    "* Making sense of `PCA` : <a href=\"https://stats.stackexchange.com/questions/2691/making-sense-of-principal-component-analysis-eigenvectors-eigenvalues/140579#140579\">StatsExchange, Eigenelements of a PCA</a>\n",
    "\n",
    "<br/>\n",
    "\n",
    "* `TruncatedSVD` : <a href=\"https://scikit-learn.org/stable/modules/generated/sklearn.decomposition.TruncatedSVD.html\">Doc</a>\n",
    "\n",
    "```quote\n",
    "Dimensionality reduction using truncated SVD (aka LSA).\n",
    "\n",
    "This transformer performs linear dimensionality reduction by means of truncated singular value decomposition (SVD). Contrary to PCA, this estimator does not center the data before computing the singular value decomposition. This means it can work with sparse matrices efficiently.\n",
    "```"
   ]
  }
 ],
 "metadata": {
  "colab": {
   "collapsed_sections": [],
   "name": "Spotify Challenge - DavyDW - Unsupervised Learning.ipynb",
   "provenance": [],
   "toc_visible": true
  },
  "kernelspec": {
   "display_name": "Python 3 (ipykernel)",
   "language": "python",
   "name": "python3"
  },
  "language_info": {
   "codemirror_mode": {
    "name": "ipython",
    "version": 3
   },
   "file_extension": ".py",
   "mimetype": "text/x-python",
   "name": "python",
   "nbconvert_exporter": "python",
   "pygments_lexer": "ipython3",
   "version": "3.8.12"
  },
  "latex_envs": {
   "LaTeX_envs_menu_present": true,
   "autoclose": false,
   "autocomplete": true,
   "bibliofile": "biblio.bib",
   "cite_by": "apalike",
   "current_citInitial": 1,
   "eqLabelWithNumbers": true,
   "eqNumInitial": 1,
   "hotkeys": {
    "equation": "Ctrl-E",
    "itemize": "Ctrl-I"
   },
   "labels_anchors": false,
   "latex_user_defs": false,
   "report_style_numbering": false,
   "user_envs_cfg": false
  },
  "toc": {
   "base_numbering": 1,
   "nav_menu": {},
   "number_sections": false,
   "sideBar": true,
   "skip_h1_title": false,
   "title_cell": "Table of Contents",
   "title_sidebar": "Contents",
   "toc_cell": false,
   "toc_position": {
    "height": "calc(100% - 180px)",
    "left": "10px",
    "top": "150px",
    "width": "318.984px"
   },
   "toc_section_display": true,
   "toc_window_display": true
  },
  "varInspector": {
   "cols": {
    "lenName": 16,
    "lenType": 16,
    "lenVar": 40
   },
   "kernels_config": {
    "python": {
     "delete_cmd_postfix": "",
     "delete_cmd_prefix": "del ",
     "library": "var_list.py",
     "varRefreshCmd": "print(var_dic_list())"
    },
    "r": {
     "delete_cmd_postfix": ") ",
     "delete_cmd_prefix": "rm(",
     "library": "var_list.r",
     "varRefreshCmd": "cat(var_dic_list()) "
    }
   },
   "types_to_exclude": [
    "module",
    "function",
    "builtin_function_or_method",
    "instance",
    "_Feature"
   ],
   "window_display": false
  }
 },
 "nbformat": 4,
 "nbformat_minor": 1
}
